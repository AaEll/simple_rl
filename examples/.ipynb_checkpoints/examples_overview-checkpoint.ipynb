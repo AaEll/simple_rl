{
 "cells": [
  {
   "cell_type": "markdown",
   "metadata": {},
   "source": [
    "Simple RL\n",
    "====================\n",
    "\n",
    "Welcome! Here we'll showcase some basic examples of typical RL programming tasks."
   ]
  },
  {
   "cell_type": "markdown",
   "metadata": {},
   "source": [
    "Example 1: Grid World\n",
    "----------\n",
    "\n",
    "First, we'll grab our relevant imports: some agents, an MDP, an a function to facilitate running experiments and plotting:"
   ]
  },
  {
   "cell_type": "code",
   "execution_count": 12,
   "metadata": {
    "collapsed": true
   },
   "outputs": [],
   "source": [
    "from simple_rl.agents import QLearnerAgent, RandomAgent\n",
    "from simple_rl.tasks import GridWorldMDP\n",
    "from simple_rl.run_experiments import run_agents_on_mdp"
   ]
  },
  {
   "cell_type": "markdown",
   "metadata": {},
   "source": [
    "Next, we make an MDP and a few agents:"
   ]
  },
  {
   "cell_type": "code",
   "execution_count": 23,
   "metadata": {
    "collapsed": true,
    "scrolled": true
   },
   "outputs": [],
   "source": [
    "# Setup MDP.\n",
    "mdp = GridWorldMDP(width=6, height=6, init_loc=(1,1), goal_locs=[(6,6)])\n",
    "\n",
    "# Setup Agents.\n",
    "ql_agent = QLearnerAgent(actions=mdp.get_actions()) \n",
    "rand_agent = RandomAgent(actions=mdp.get_actions())"
   ]
  },
  {
   "cell_type": "markdown",
   "metadata": {},
   "source": [
    "The real meat of <i>simple_rl</i> are the functions that run experiments. The first of which takes a list of agents and an mdp and simulates their interaction:"
   ]
  },
  {
   "cell_type": "code",
   "execution_count": 25,
   "metadata": {},
   "outputs": [
    {
     "name": "stdout",
     "output_type": "stream",
     "text": [
      "Running experiment: \n",
      "(MDP)\n",
      "\tgridworld_h-6_w-6\n",
      "(Agents)\n",
      "\tqlearner\n",
      "\trandom\n",
      "(Params)\n",
      "\tinstances : 5\n",
      "\tepisodes : 100\n",
      "\tsteps : 40\n",
      "\n",
      "qlearner is learning.\n",
      "  Instance 1 of 5.\n",
      "  Instance 2 of 5.\n",
      "  Instance 3 of 5.\n",
      "  Instance 4 of 5.\n",
      "  Instance 5 of 5.\n",
      "\n",
      "random is learning.\n",
      "  Instance 1 of 5.\n",
      "  Instance 2 of 5.\n",
      "  Instance 3 of 5.\n",
      "  Instance 4 of 5.\n",
      "  Instance 5 of 5.\n",
      "\n",
      "\n",
      "--- TIMES ---\n",
      "qlearner agent took 1.1 seconds.\n",
      "random agent took 0.31 seconds.\n",
      "-------------\n",
      "\n"
     ]
    },
    {
     "data": {
      "image/png": "[encoded data removed]",
      "text/plain": [
       "<matplotlib.figure.Figure at 0x1162e9690>"
      ]
     },
     "metadata": {},
     "output_type": "display_data"
    }
   ],
   "source": [
    "# Run experiment and make plot.\n",
    "run_agents_on_mdp([ql_agent, rand_agent], mdp, instances=5, episodes=100, steps=40, reset_at_terminal=True, verbose=False)"
   ]
  },
  {
   "cell_type": "markdown",
   "metadata": {},
   "source": [
    "We can throw R-Max, introduced by [[Brafman and Tennenholtz, 2002]](http://www.jmlr.org/papers/volume3/brafman02a/brafman02a.pdf) in the mix, too"
   ]
  },
  {
   "cell_type": "code",
   "execution_count": 18,
   "metadata": {
    "scrolled": true
   },
   "outputs": [
    {
     "name": "stdout",
     "output_type": "stream",
     "text": [
      "Running experiment: \n",
      "(MDP)\n",
      "\tgridworld_h-6_w-6\n",
      "(Agents)\n",
      "\trmax-h4\n",
      "\tqlearner\n",
      "\trandom\n",
      "(Params)\n",
      "\tinstances : 5\n",
      "\tepisodes : 50\n",
      "\tsteps : 30\n",
      "\n",
      "rmax-h4 is learning.\n",
      "  Instance 1 of 5.\n",
      "  Instance 2 of 5.\n",
      "  Instance 3 of 5.\n",
      "  Instance 4 of 5.\n",
      "  Instance 5 of 5.\n",
      "\n",
      "qlearner is learning.\n",
      "  Instance 1 of 5.\n",
      "  Instance 2 of 5.\n",
      "  Instance 3 of 5.\n",
      "  Instance 4 of 5.\n",
      "  Instance 5 of 5.\n",
      "\n",
      "random is learning.\n",
      "  Instance 1 of 5.\n",
      "  Instance 2 of 5.\n",
      "  Instance 3 of 5.\n",
      "  Instance 4 of 5.\n",
      "  Instance 5 of 5.\n",
      "\n",
      "\n",
      "--- TIMES ---\n",
      "rmax-h4 agent took 196.79 seconds.\n",
      "random agent took 0.13 seconds.\n",
      "qlearner agent took 0.41 seconds.\n",
      "-------------\n",
      "\n"
     ]
    },
    {
     "data": {
      "image/png": "[encoded data removed]",
      "text/plain": [
       "<matplotlib.figure.Figure at 0x1162e2c50>"
      ]
     },
     "metadata": {},
     "output_type": "display_data"
    }
   ],
   "source": [
    "from simple_rl.agents import RMax\n",
    "\n",
    "rmax_agent = RMaxAgent(actions=mdp.get_actions(), s_a_threshold=1)\n",
    "\n",
    "# Run experiment and make plot.\n",
    "run_agents_on_mdp([ql_agent, rand_agent], mdp, instances=5, episodes=50, steps=30, reset_at_terminal=True, verbose=False)"
   ]
  },
  {
   "cell_type": "markdown",
   "metadata": {},
   "source": [
    "The above code is contained in the <i>simple_example.py</i> file. We can also make grid worlds with a text file. For instance, we can construct the grid problem from [[Barto and Pickett 2002]](https://www.researchgate.net/profile/Marc_Pickett/publication/2534967_PolicyBlocks_An_Algorithm_for_Creating_Useful_Macro-Actions_in_Reinforcement_Learning/links/0c960536b7efb97cd0000000.pdf) by making a text file:\n",
    "    <code>\n",
    "    --w-----w---w----g\n",
    "    --------w---------\n",
    "    --w-----w---w-----\n",
    "    --w-----w---w-----\n",
    "    wwwww-wwwwwwwww-ww\n",
    "    ---w----w----w----\n",
    "    ---w---------w----\n",
    "    --------w---------\n",
    "    wwwwwwwww---------\n",
    "    w-------wwwwwww-ww\n",
    "    --w-----w---w-----\n",
    "    --------w---------\n",
    "    --w---------w-----\n",
    "    --w-----w---w-----\n",
    "    wwwww-wwwwwwwww-ww\n",
    "    ---w-----w---w----\n",
    "    ---w-----w---w----\n",
    "    a--------w--------\n",
    "    </code>"
   ]
  },
  {
   "cell_type": "code",
   "execution_count": 19,
   "metadata": {},
   "outputs": [
    {
     "name": "stdout",
     "output_type": "stream",
     "text": [
      "Press anything to quit \n"
     ]
    }
   ],
   "source": [
    "from simple_rl.tasks.grid_world import GridWorldMDPClass\n",
    "\n",
    "mdp = GridWorldMDPClass.make_grid_world_from_file(\"pblocks_grid.txt\", randomize=False)\n",
    "mdp.visualize_value()"
   ]
  },
  {
   "cell_type": "markdown",
   "metadata": {},
   "source": [
    "Which produces:"
   ]
  },
  {
   "cell_type": "markdown",
   "metadata": {},
   "source": [
    "Example 2: Visuals (require pygame)\n",
    "---------------"
   ]
  },
  {
   "cell_type": "markdown",
   "metadata": {},
   "source": [
    "First let's make a FourRoomMDP from [[Sutton, Precup, Singh 1999]](http://ac.els-cdn.com/S0004370299000521/1-s2.0-S0004370299000521-main.pdf?_tid=e985f9ca-7b76-11e7-949a-00000aab0f26&acdnat=1502113811_cb6bca11a9512136fb3f55155abb4146), which is more visually interesting than a grid world."
   ]
  },
  {
   "cell_type": "code",
   "execution_count": null,
   "metadata": {
    "collapsed": true
   },
   "outputs": [],
   "source": [
    "from simple_rl.tasks import FourRoomMDP\n",
    "four_room_mdp = FourRoomMDP(9, 9, goal_locs=[(9, 9)], gamma=0.95)\n",
    "\n",
    "# Run experiment and make plot.\n",
    "four_room_mdp.visualize_value()"
   ]
  },
  {
   "cell_type": "markdown",
   "metadata": {
    "collapsed": true
   },
   "source": [
    "<img src=\"val.png\" alt=\"Val\" style=\"width: 400px;\"/>"
   ]
  },
  {
   "cell_type": "markdown",
   "metadata": {},
   "source": [
    "Or we can visualize a policy:"
   ]
  },
  {
   "cell_type": "markdown",
   "metadata": {},
   "source": [
    "<img src=\"pol.png\" alt=\"Val\" style=\"width: 400px;\"/>"
   ]
  },
  {
   "cell_type": "markdown",
   "metadata": {},
   "source": [
    "Both of these are in examples/viz_example.py. If you need pygame in anaconda, give this a shot:\n",
    "\n",
    "    > conda install -c cogsci pygame\n",
    "\n",
    "If you get an sdl font related error on Mac/Linux, try:\n",
    "\n",
    "    > brew update sdl && sdl_tf"
   ]
  },
  {
   "cell_type": "markdown",
   "metadata": {
    "collapsed": true
   },
   "source": [
    "Example 3: OOMDPs, Taxi\n",
    "---------------\n",
    "\n",
    "There's also a Taxi MDP, which is actually built on top of an Object Oriented MDP Abstract class from [[Diuk, Cohen, Littman 2008]](https://carlosdiuk.github.io/papers/OORL.pdf):"
   ]
  },
  {
   "cell_type": "code",
   "execution_count": null,
   "metadata": {
    "collapsed": true
   },
   "outputs": [],
   "source": [
    "from simple_rl.tasks import TaxiOOMDP\n",
    "\n",
    "# Taxi initial state attributes..\n",
    "agent = {\"x\":1, \"y\":1, \"has_passenger\":0}\n",
    "passengers = [{\"x\":3, \"y\":2, \"dest_x\":2, \"dest_y\":3, \"in_taxi\":0}]\n",
    "taxi_mdp = TaxiOOMDP(width=4, height=4, agent=agent, walls=[], passengers=passengers)\n",
    "\n",
    "# Make agents.\n",
    "ql_agent = QLearnerAgent(actions=taxi_mdp.get_actions()) \n",
    "rand_agent = RandomAgent(actions=taxi_mdp.get_actions())"
   ]
  },
  {
   "cell_type": "markdown",
   "metadata": {},
   "source": [
    "Above, we specify the objects of the OOMDP and their attributes. Now, just as before, we can let some agents interact with the MDP:"
   ]
  },
  {
   "cell_type": "code",
   "execution_count": null,
   "metadata": {
    "collapsed": true
   },
   "outputs": [],
   "source": [
    "# Run experiment and make plot.\n",
    "run_agents_on_mdp([ql_agent, rand_agent], taxi_mdp, instances=5, episodes=100, steps=150, reset_at_terminal=True)"
   ]
  },
  {
   "cell_type": "markdown",
   "metadata": {},
   "source": [
    "More on OOMDPs in <i>examples/oomdp_example.py</i>"
   ]
  },
  {
   "cell_type": "markdown",
   "metadata": {},
   "source": [
    "Example 4: Markov Games\n",
    "    --------"
   ]
  },
  {
   "cell_type": "markdown",
   "metadata": {},
   "source": [
    "I've added a few markov games, including rock paper scissors, grid games, and prisoners dilemma. Just as before, we get a run agents method that simulates learning and makes a plot:"
   ]
  },
  {
   "cell_type": "code",
   "execution_count": 2,
   "metadata": {},
   "outputs": [
    {
     "name": "stdout",
     "output_type": "stream",
     "text": [
      "Running experiment: \n",
      "(Markov Game MDP)\n",
      "\tgrid_game-3-8\n",
      "(Agents)\n",
      "\trandom\n",
      "\tqlearner\n",
      "(Params)\n",
      "\tinstances : 15\n",
      "\n",
      "\tInstance 1 of 15.\n",
      "\tInstance 2 of 15.\n",
      "\tInstance 3 of 15.\n",
      "\tInstance 4 of 15.\n",
      "\tInstance 5 of 15.\n",
      "\tInstance 6 of 15.\n",
      "\tInstance 7 of 15.\n",
      "\tInstance 8 of 15.\n",
      "\tInstance 9 of 15.\n",
      "\tInstance 10 of 15.\n",
      "\tInstance 11 of 15.\n",
      "\tInstance 12 of 15.\n",
      "\tInstance 13 of 15.\n",
      "\tInstance 14 of 15.\n",
      "\tInstance 15 of 15.\n",
      "Experiment took 9.18 seconds.\n"
     ]
    },
    {
     "data": {
      "image/png": "[encoded data removed]",
      "text/plain": [
       "<matplotlib.figure.Figure at 0x115a63050>"
      ]
     },
     "metadata": {},
     "output_type": "display_data"
    }
   ],
   "source": [
    "from simple_rl.run_experiments import play_markov_game\n",
    "from simple_rl.agents import QLearnerAgent, RandomAgent\n",
    "from simple_rl.tasks import GridGameMDP\n",
    "\n",
    "# Setup MDP, Agents.\n",
    "grid_game_mdp = GridGameMDP()\n",
    "ql_agent = QLearnerAgent(actions=grid_game_mdp.get_actions()) \n",
    "rand_agent = RandomAgent(actions=grid_game_mdp.get_actions())\n",
    "\n",
    "# Run experiment and make plot.\n",
    "play_markov_game([ql_agent, rand_agent], grid_game_mdp, instances=15, episodes=200, steps=40)"
   ]
  },
  {
   "cell_type": "markdown",
   "metadata": {},
   "source": [
    "Example 5: Gym MDP\n",
    "    --------"
   ]
  },
  {
   "cell_type": "markdown",
   "metadata": {},
   "source": [
    "Recently I added support for making OpenAI gym MDPs. It's again only a few lines of code:"
   ]
  },
  {
   "cell_type": "code",
   "execution_count": null,
   "metadata": {
    "collapsed": true
   },
   "outputs": [],
   "source": [
    "from simple_rl.tasks import GymMDP\n",
    "from simple_rl.agents import LinearQLearnerAgent\n",
    "\n",
    "# Gym MDP.\n",
    "gym_mdp = GymMDP(env_name='MountainCar-v0', render=False) # If render is true, visualizes interactions.\n",
    "num_feats = gym_mdp.get_num_state_feats()\n",
    "\n",
    "# Setup agents and run.\n",
    "lin_agent = LinearQLearnerAgent(gym_mdp.actions, num_features=num_feats, alpha=0.4, epsilon=0.8, anneal=True)\n",
    "rand_agent = RandomAgent(gym_mdp.actions)\n",
    "\n",
    "run_agents_on_mdp([lin_agent, rand_agent], gym_mdp, instances=10, episodes=1000, steps=10000)"
   ]
  },
  {
   "cell_type": "markdown",
   "metadata": {},
   "source": [
    "Example 6: MDP Distributions\n",
    "        -----------"
   ]
  },
  {
   "cell_type": "code",
   "execution_count": null,
   "metadata": {
    "collapsed": true
   },
   "outputs": [],
   "source": []
  }
 ],
 "metadata": {
  "kernelspec": {
   "display_name": "Python 2",
   "language": "python",
   "name": "python2"
  },
  "language_info": {
   "codemirror_mode": {
    "name": "ipython",
    "version": 2
   },
   "file_extension": ".py",
   "mimetype": "text/x-python",
   "name": "python",
   "nbconvert_exporter": "python",
   "pygments_lexer": "ipython2",
   "version": "2.7.13"
  }
 },
 "nbformat": 4,
 "nbformat_minor": 2
}
