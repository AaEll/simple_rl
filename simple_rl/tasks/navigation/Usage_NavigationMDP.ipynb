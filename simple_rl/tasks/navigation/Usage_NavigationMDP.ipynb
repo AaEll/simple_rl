{
 "cells": [
  {
   "cell_type": "markdown",
   "metadata": {},
   "source": [
    "# Navigation MDP [1]"
   ]
  },
  {
   "cell_type": "code",
   "execution_count": 1,
   "metadata": {},
   "outputs": [
    {
     "name": "stdout",
     "output_type": "stream",
     "text": [
      "Warning: OpenAI gym not installed.\n"
     ]
    }
   ],
   "source": [
    "import numpy as np\n",
    "from simple_rl.tasks import NavigationMDP\n",
    "from simple_rl.agents import QLearningAgent\n",
    "from simple_rl.planning import ValueIteration\n",
    "%matplotlib inline\n",
    "%load_ext autoreload\n",
    "%autoreload 2"
   ]
  },
  {
   "cell_type": "code",
   "execution_count": 2,
   "metadata": {},
   "outputs": [],
   "source": [
    "nvmdp = NavigationMDP(width=30, \n",
    "                        height=30, \n",
    "                        goal_locs=[(21,21)], \n",
    "                        init_loc=(1,1), \n",
    "                        rand_init=True,\n",
    "                        cell_types=[\"empty\", \"yellow\", \"red\", \"green\", \"purple\"],\n",
    "                        cell_type_rewards=[0, 0, -10, -10, -10],\n",
    "                        goal_reward=1.,\n",
    "                        slip_prob=0.00,\n",
    "                        step_cost=0.0,\n",
    "                        gamma=.9999)\n",
    "\n",
    "value_iter = ValueIteration(nvmdp, sample_rate=100)\n",
    "_ = value_iter.run_vi()"
   ]
  },
  {
   "cell_type": "code",
   "execution_count": 3,
   "metadata": {},
   "outputs": [],
   "source": [
    "np.random.seed(0)\n",
    "D = []\n",
    "for i in range(4):\n",
    "    action_seq, state_seq = value_iter.plan(nvmdp.get_random_init_state())\n",
    "    D.append(state_seq)"
   ]
  },
  {
   "cell_type": "code",
   "execution_count": 4,
   "metadata": {},
   "outputs": [
    {
     "data": {
      "image/png": "[encoded data removed]",
      "text/plain": [
       "<Figure size 504x504 with 2 Axes>"
      ]
     },
     "metadata": {},
     "output_type": "display_data"
    }
   ],
   "source": [
    "nvmdp.visualize_grid(trajectories=D)"
   ]
  },
  {
   "cell_type": "markdown",
   "metadata": {},
   "source": [
    "## Experiment 1 features"
   ]
  },
  {
   "cell_type": "code",
   "execution_count": 5,
   "metadata": {},
   "outputs": [],
   "source": [
    "def sample_data(nvmdp, n_trajectory, phi=None):\n",
    "    \"\"\"\n",
    "    Args:\n",
    "        n_trajectory: number of trajectories to sample\n",
    "\n",
    "    Returns:\n",
    "        [[phi(s1), phi(s3), ...], [phi(s1), phi(s3), ...], ...], where phi is one-hot encoded vector \n",
    "                of the cell type of a given state  \n",
    "    \"\"\"\n",
    "    D_actions = []\n",
    "    D_states = []\n",
    "    \n",
    "    action_to_idx = {a:i for i,a in enumerate(nvmdp.actions)}\n",
    "    \n",
    "    for _ in range(n_trajectory):\n",
    "        action_seq, state_seq = value_iter.plan(nvmdp.get_random_init_state())\n",
    "        #print(len(action_seq), len(state_seq))\n",
    "        if phi is not None:\n",
    "            D_states.append([phi(s)for s in state_seq])\n",
    "        else:\n",
    "            D_states.append(state_seq)\n",
    "        D_actions.append([action_to_idx[a] for a in action_seq])\n",
    "    return D_states, D_actions\n",
    "\n",
    "def feature_long_horizon(nvmdp, x, y):\n",
    "    row,col = nvmdp._xy_to_rowcol(x,y)\n",
    "    if (x, y) in nvmdp.goal_locs:\n",
    "        return np.zeros(len(nvmdp.cell_types), dtype=np.float32)\n",
    "    else:\n",
    "        return np.eye(len(nvmdp.cell_types))[nvmdp.cells[row, col]]\n",
    "    \n",
    "def feature_short_horizon(nvmdp, x, y):\n",
    "    row,col = nvmdp._xy_to_rowcol(x,y)\n",
    "    return np.hstack((feature_long_horizon(nvmdp, x, y), nvmdp.get_cell_distance_features()[row, col]))"
   ]
  },
  {
   "cell_type": "code",
   "execution_count": 6,
   "metadata": {},
   "outputs": [],
   "source": [
    "np.random.seed(0)\n",
    "N_tau = 8\n",
    "phi_long=lambda mdp_state: feature_long_horizon(nvmdp, mdp_state.x, mdp_state.y)\n",
    "phi_short=lambda mdp_state: feature_short_horizon(nvmdp, mdp_state.x, mdp_state.y)\n",
    "D_states, D_actions = sample_data(nvmdp, N_tau, phi=phi_short)"
   ]
  },
  {
   "cell_type": "code",
   "execution_count": 7,
   "metadata": {},
   "outputs": [
    {
     "data": {
      "text/plain": [
       "[array([1.        , 0.        , 0.        , 0.        , 0.        ,\n",
       "        0.        , 1.41421354, 3.1622777 , 1.41421354, 2.23606801]),\n",
       " array([1.        , 0.        , 0.        , 0.        , 0.        ,\n",
       "        0.        , 1.        , 2.23606801, 2.23606801, 1.41421354]),\n",
       " array([0.        , 1.        , 0.        , 0.        , 0.        ,\n",
       "        1.        , 0.        , 1.41421354, 3.1622777 , 1.        ]),\n",
       " array([1.        , 0.        , 0.        , 0.        , 0.        ,\n",
       "        0.        , 1.        , 1.        , 2.82842708, 1.        ]),\n",
       " array([1.        , 0.        , 0.        , 0.        , 0.        ,\n",
       "        0.        , 1.        , 2.        , 2.23606801, 1.41421354])]"
      ]
     },
     "execution_count": 7,
     "metadata": {},
     "output_type": "execute_result"
    }
   ],
   "source": [
    "[s for s in D_states[0][:5]]"
   ]
  },
  {
   "cell_type": "markdown",
   "metadata": {},
   "source": [
    "## Reference\n",
    "\n",
    "[1] MacGlashan, James, and Michael L. Littman. \"Between Imitation and Intention Learning.\" IJCAI. 2015."
   ]
  }
 ],
 "metadata": {
  "kernelspec": {
   "display_name": "irl_python3",
   "language": "python",
   "name": "irl_python3"
  },
  "language_info": {
   "codemirror_mode": {
    "name": "ipython",
    "version": 3
   },
   "file_extension": ".py",
   "mimetype": "text/x-python",
   "name": "python",
   "nbconvert_exporter": "python",
   "pygments_lexer": "ipython3",
   "version": "3.6.1"
  }
 },
 "nbformat": 4,
 "nbformat_minor": 2
}
