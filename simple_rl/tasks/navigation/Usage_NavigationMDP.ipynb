{
 "cells": [
  {
   "cell_type": "markdown",
   "metadata": {},
   "source": [
    "# Navigation MDP [1]"
   ]
  },
  {
   "cell_type": "code",
   "execution_count": 1,
   "metadata": {},
   "outputs": [
    {
     "name": "stdout",
     "output_type": "stream",
     "text": [
      "Warning: OpenAI gym not installed.\n"
     ]
    }
   ],
   "source": [
    "import numpy as np\n",
    "from simple_rl.tasks import NavigationMDP\n",
    "from simple_rl.agents import QLearningAgent\n",
    "from simple_rl.planning import ValueIteration\n",
    "from simple_rl.tasks.grid_world.GridWorldStateClass import GridWorldState\n",
    "\n",
    "%matplotlib inline\n",
    "%load_ext autoreload\n",
    "%autoreload 2"
   ]
  },
  {
   "cell_type": "code",
   "execution_count": 2,
   "metadata": {},
   "outputs": [],
   "source": [
    "np.random.seed(0)"
   ]
  },
  {
   "cell_type": "code",
   "execution_count": 3,
   "metadata": {},
   "outputs": [],
   "source": [
    "nvmdp = NavigationMDP(width=30, \n",
    "                        height=30, \n",
    "                        goal_locs=[(21,21)], \n",
    "                        init_loc=(1,1), \n",
    "                        rand_init=True,\n",
    "                        cell_types=[\"empty\", \"yellow\", \"red\", \"green\", \"purple\"],\n",
    "                        cell_type_rewards=[0, 0, -10, -10, -10],\n",
    "                        goal_reward=1.,\n",
    "                        slip_prob=0.00,\n",
    "                        step_cost=0.0,\n",
    "                        vacancy_prob=0.8,\n",
    "                        gamma=.9999)"
   ]
  },
  {
   "cell_type": "code",
   "execution_count": 4,
   "metadata": {},
   "outputs": [
    {
     "data": {
      "image/png": "[encoded data removed]",
      "text/plain": [
       "<Figure size 504x504 with 2 Axes>"
      ]
     },
     "metadata": {},
     "output_type": "display_data"
    }
   ],
   "source": [
    "N_tau = 8\n",
    "# Use \"init_states\" to request specific init states while sampling trajectories\n",
    "# if \"n_trajectory\" is greater than # of init_states, remaining init states will be sampled randomly\n",
    "D_traj_states, D_traj_actions = nvmdp.sample_data(n_trajectory=N_tau, init_states=[GridWorldState(1,1)], init_repetition=False)\n",
    "nvmdp.visualize_grid(trajectories=D_traj_states, show_rewards_cbar=True)"
   ]
  },
  {
   "cell_type": "markdown",
   "metadata": {},
   "source": [
    "## Features used for short horizon"
   ]
  },
  {
   "cell_type": "code",
   "execution_count": 5,
   "metadata": {},
   "outputs": [
    {
     "data": {
      "text/plain": [
       "[array([ 0.,  0.,  0.,  1.,  0.,  5.,  4.,  0., 12., 40.]),\n",
       " array([ 1.,  0.,  0.,  0.,  0.,  6.,  3.,  1., 11., 39.]),\n",
       " array([ 1.,  0.,  0.,  0.,  0.,  5.,  2.,  2., 10., 38.]),\n",
       " array([ 1.,  0.,  0.,  0.,  0.,  4.,  1.,  2.,  9., 37.]),\n",
       " array([ 1.,  0.,  0.,  0.,  0.,  3.,  2.,  2.,  8., 36.]),\n",
       " array([ 1.,  0.,  0.,  0.,  0.,  2.,  1.,  1.,  7., 35.]),\n",
       " array([ 1.,  0.,  0.,  0.,  0.,  3.,  2.,  1.,  6., 34.]),\n",
       " array([ 1.,  0.,  0.,  0.,  0.,  4.,  1.,  2.,  5., 33.]),\n",
       " array([ 1.,  0.,  0.,  0.,  0.,  3.,  2.,  1.,  4., 32.]),\n",
       " array([ 1.,  0.,  0.,  0.,  0.,  2.,  3.,  1.,  3., 31.]),\n",
       " array([ 1.,  0.,  0.,  0.,  0.,  2.,  4.,  2.,  3., 30.]),\n",
       " array([ 1.,  0.,  0.,  0.,  0.,  1.,  3.,  3.,  2., 29.]),\n",
       " array([ 0.,  1.,  0.,  0.,  0.,  0.,  4.,  4.,  1., 28.]),\n",
       " array([ 1.,  0.,  0.,  0.,  0.,  1.,  5.,  4.,  1., 27.]),\n",
       " array([ 1.,  0.,  0.,  0.,  0.,  2.,  4.,  3.,  1., 26.]),\n",
       " array([ 1.,  0.,  0.,  0.,  0.,  2.,  3.,  2.,  1., 25.]),\n",
       " array([ 1.,  0.,  0.,  0.,  0.,  1.,  2.,  3.,  1., 24.]),\n",
       " array([ 0.,  1.,  0.,  0.,  0.,  0.,  3.,  3.,  2., 23.]),\n",
       " array([ 1.,  0.,  0.,  0.,  0.,  1.,  4.,  2.,  2., 22.]),\n",
       " array([ 1.,  0.,  0.,  0.,  0.,  1.,  4.,  3.,  1., 21.]),\n",
       " array([ 0.,  1.,  0.,  0.,  0.,  0.,  4.,  2.,  1., 20.]),\n",
       " array([ 1.,  0.,  0.,  0.,  0.,  1.,  3.,  1.,  2., 19.]),\n",
       " array([ 1.,  0.,  0.,  0.,  0.,  1.,  4.,  2.,  1., 18.]),\n",
       " array([ 1.,  0.,  0.,  0.,  0.,  2.,  4.,  2.,  2., 17.]),\n",
       " array([ 1.,  0.,  0.,  0.,  0.,  1.,  5.,  1.,  3., 16.]),\n",
       " array([ 1.,  0.,  0.,  0.,  0.,  2.,  6.,  2.,  3., 15.]),\n",
       " array([ 1.,  0.,  0.,  0.,  0.,  1.,  5.,  3.,  2., 14.]),\n",
       " array([ 0.,  1.,  0.,  0.,  0.,  0.,  4.,  2.,  3., 13.]),\n",
       " array([ 1.,  0.,  0.,  0.,  0.,  1.,  3.,  1.,  4., 12.]),\n",
       " array([ 0.,  1.,  0.,  0.,  0.,  0.,  2.,  2.,  3., 11.]),\n",
       " array([ 1.,  0.,  0.,  0.,  0.,  1.,  1.,  3.,  2., 10.]),\n",
       " array([1., 0., 0., 0., 0., 2., 2., 4., 3., 9.]),\n",
       " array([1., 0., 0., 0., 0., 1., 3., 3., 3., 8.]),\n",
       " array([0., 1., 0., 0., 0., 0., 4., 2., 3., 7.]),\n",
       " array([1., 0., 0., 0., 0., 1., 3., 3., 2., 6.]),\n",
       " array([1., 0., 0., 0., 0., 2., 2., 4., 1., 5.]),\n",
       " array([1., 0., 0., 0., 0., 2., 1., 5., 2., 4.]),\n",
       " array([1., 0., 0., 0., 0., 3., 2., 4., 1., 3.]),\n",
       " array([1., 0., 0., 0., 0., 2., 1., 5., 1., 2.]),\n",
       " array([1., 0., 0., 0., 0., 1., 2., 5., 2., 1.]),\n",
       " array([0., 0., 0., 0., 0., 2., 2., 4., 3., 0.], dtype=float32)]"
      ]
     },
     "execution_count": 5,
     "metadata": {},
     "output_type": "execute_result"
    }
   ],
   "source": [
    "[nvmdp.feature_long_at_state(s, normalize=False) for s in D_traj_states[0]]"
   ]
  },
  {
   "cell_type": "markdown",
   "metadata": {},
   "source": [
    "## Features used for long horizon"
   ]
  },
  {
   "cell_type": "code",
   "execution_count": 6,
   "metadata": {},
   "outputs": [
    {
     "data": {
      "text/plain": [
       "[array([0., 0., 0., 1., 0.]),\n",
       " array([1., 0., 0., 0., 0.]),\n",
       " array([1., 0., 0., 0., 0.]),\n",
       " array([1., 0., 0., 0., 0.]),\n",
       " array([1., 0., 0., 0., 0.]),\n",
       " array([1., 0., 0., 0., 0.]),\n",
       " array([1., 0., 0., 0., 0.]),\n",
       " array([1., 0., 0., 0., 0.]),\n",
       " array([1., 0., 0., 0., 0.]),\n",
       " array([1., 0., 0., 0., 0.]),\n",
       " array([1., 0., 0., 0., 0.]),\n",
       " array([1., 0., 0., 0., 0.]),\n",
       " array([0., 1., 0., 0., 0.]),\n",
       " array([1., 0., 0., 0., 0.]),\n",
       " array([1., 0., 0., 0., 0.]),\n",
       " array([1., 0., 0., 0., 0.]),\n",
       " array([1., 0., 0., 0., 0.]),\n",
       " array([0., 1., 0., 0., 0.]),\n",
       " array([1., 0., 0., 0., 0.]),\n",
       " array([1., 0., 0., 0., 0.]),\n",
       " array([0., 1., 0., 0., 0.]),\n",
       " array([1., 0., 0., 0., 0.]),\n",
       " array([1., 0., 0., 0., 0.]),\n",
       " array([1., 0., 0., 0., 0.]),\n",
       " array([1., 0., 0., 0., 0.]),\n",
       " array([1., 0., 0., 0., 0.]),\n",
       " array([1., 0., 0., 0., 0.]),\n",
       " array([0., 1., 0., 0., 0.]),\n",
       " array([1., 0., 0., 0., 0.]),\n",
       " array([0., 1., 0., 0., 0.]),\n",
       " array([1., 0., 0., 0., 0.]),\n",
       " array([1., 0., 0., 0., 0.]),\n",
       " array([1., 0., 0., 0., 0.]),\n",
       " array([0., 1., 0., 0., 0.]),\n",
       " array([1., 0., 0., 0., 0.]),\n",
       " array([1., 0., 0., 0., 0.]),\n",
       " array([1., 0., 0., 0., 0.]),\n",
       " array([1., 0., 0., 0., 0.]),\n",
       " array([1., 0., 0., 0., 0.]),\n",
       " array([1., 0., 0., 0., 0.]),\n",
       " array([0., 0., 0., 0., 0.], dtype=float32)]"
      ]
     },
     "execution_count": 6,
     "metadata": {},
     "output_type": "execute_result"
    }
   ],
   "source": [
    "[nvmdp.feature_short_at_state(s) for s in D_traj_states[0]]"
   ]
  },
  {
   "cell_type": "markdown",
   "metadata": {},
   "source": [
    "## Reference\n",
    "\n",
    "[1] MacGlashan, James, and Michael L. Littman. \"Between Imitation and Intention Learning.\" IJCAI. 2015."
   ]
  }
 ],
 "metadata": {
  "kernelspec": {
   "display_name": "irl_python3",
   "language": "python",
   "name": "irl_python3"
  },
  "language_info": {
   "codemirror_mode": {
    "name": "ipython",
    "version": 3
   },
   "file_extension": ".py",
   "mimetype": "text/x-python",
   "name": "python",
   "nbconvert_exporter": "python",
   "pygments_lexer": "ipython3",
   "version": "3.6.1"
  }
 },
 "nbformat": 4,
 "nbformat_minor": 2
}
