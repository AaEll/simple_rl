{
 "cells": [
  {
   "cell_type": "markdown",
   "metadata": {},
   "source": [
    "# Navigation MDP [1]"
   ]
  },
  {
   "cell_type": "code",
   "execution_count": 1,
   "metadata": {},
   "outputs": [
    {
     "name": "stdout",
     "output_type": "stream",
     "text": [
      "Warning: OpenAI gym not installed.\n"
     ]
    }
   ],
   "source": [
    "import numpy as np\n",
    "from simple_rl.tasks import NavigationMDP\n",
    "from simple_rl.agents import QLearningAgent\n",
    "from simple_rl.planning import ValueIteration\n",
    "from simple_rl.tasks.grid_world.GridWorldStateClass import GridWorldState\n",
    "\n",
    "%matplotlib inline\n",
    "%load_ext autoreload\n",
    "%autoreload 2"
   ]
  },
  {
   "cell_type": "code",
   "execution_count": 2,
   "metadata": {},
   "outputs": [],
   "source": [
    "np.random.seed(0)"
   ]
  },
  {
   "cell_type": "code",
   "execution_count": 3,
   "metadata": {},
   "outputs": [],
   "source": [
    "nvmdp = NavigationMDP(width=30, \n",
    "                        height=30, \n",
    "                        goal_locs=[(21,21)], \n",
    "                        init_loc=(1,1),\n",
    "                        rand_init=True,\n",
    "                        cell_types=['white', 'yellow', 'red', 'lime', 'magenta'],\n",
    "                        cell_type_rewards=[0, 0, -10, -10, -10],\n",
    "                        cell_distribution=\"probability\",\n",
    "                        cell_type_probs=[0.68, 0.17, 0.05, 0.05, 0.05],\n",
    "                        goal_reward=1.,\n",
    "                        slip_prob=0.00,\n",
    "                        step_cost=0.0,\n",
    "                        gamma=.9999)"
   ]
  },
  {
   "cell_type": "code",
   "execution_count": 4,
   "metadata": {},
   "outputs": [
    {
     "data": {
      "image/png": "[encoded data removed]",
      "text/plain": [
       "<Figure size 504x504 with 2 Axes>"
      ]
     },
     "metadata": {},
     "output_type": "display_data"
    }
   ],
   "source": [
    "N_tau = 8\n",
    "# Use \"init_states\" to request specific init states while sampling trajectories\n",
    "# if \"n_trajectory\" is greater than # of init_states, remaining init states will be sampled randomly\n",
    "state_trajectories, action_trajectories = nvmdp.sample_data(n_trajectory=N_tau, init_states=[GridWorldState(1,1)], init_repetition=False)\n",
    "nvmdp.visualize_grid(trajectories=state_trajectories, show_rewards_cbar=True)"
   ]
  },
  {
   "cell_type": "markdown",
   "metadata": {},
   "source": [
    "## Features used for short horizon"
   ]
  },
  {
   "cell_type": "code",
   "execution_count": 5,
   "metadata": {},
   "outputs": [
    {
     "data": {
      "text/plain": [
       "[array([ 0.,  0.,  1.,  0.,  0.,  1.,  4.,  0.,  6., 12., 40.]),\n",
       " array([ 1.,  0.,  0.,  0.,  0.,  0.,  3.,  1.,  5., 11., 39.]),\n",
       " array([ 1.,  0.,  0.,  0.,  0.,  0.,  3.,  2.,  4., 10., 38.]),\n",
       " array([ 1.,  0.,  0.,  0.,  0.,  0.,  2.,  3.,  3.,  9., 37.]),\n",
       " array([ 1.,  0.,  0.,  0.,  0.,  0.,  1.,  3.,  2.,  8., 36.]),\n",
       " array([ 0.,  1.,  0.,  0.,  0.,  1.,  0.,  2.,  1.,  7., 35.]),\n",
       " array([ 0.,  1.,  0.,  0.,  0.,  1.,  0.,  1.,  2.,  6., 34.]),\n",
       " array([ 1.,  0.,  0.,  0.,  0.,  0.,  1.,  1.,  1.,  5., 33.]),\n",
       " array([ 1.,  0.,  0.,  0.,  0.,  0.,  2.,  1.,  2.,  4., 32.]),\n",
       " array([ 1.,  0.,  0.,  0.,  0.,  0.,  2.,  1.,  3.,  3., 31.]),\n",
       " array([ 1.,  0.,  0.,  0.,  0.,  0.,  2.,  2.,  4.,  3., 30.]),\n",
       " array([ 1.,  0.,  0.,  0.,  0.,  0.,  1.,  3.,  5.,  2., 29.]),\n",
       " array([ 0.,  1.,  0.,  0.,  0.,  1.,  0.,  4.,  6.,  1., 28.]),\n",
       " array([ 1.,  0.,  0.,  0.,  0.,  0.,  1.,  4.,  5.,  1., 27.]),\n",
       " array([ 1.,  0.,  0.,  0.,  0.,  0.,  2.,  3.,  5.,  1., 26.]),\n",
       " array([ 1.,  0.,  0.,  0.,  0.,  0.,  2.,  2.,  4.,  1., 25.]),\n",
       " array([ 1.,  0.,  0.,  0.,  0.,  0.,  1.,  3.,  5.,  1., 24.]),\n",
       " array([ 0.,  1.,  0.,  0.,  0.,  1.,  0.,  3.,  6.,  2., 23.]),\n",
       " array([ 1.,  0.,  0.,  0.,  0.,  0.,  1.,  2.,  7.,  2., 22.]),\n",
       " array([ 1.,  0.,  0.,  0.,  0.,  0.,  1.,  3.,  6.,  1., 21.]),\n",
       " array([ 0.,  1.,  0.,  0.,  0.,  1.,  0.,  2.,  5.,  1., 20.]),\n",
       " array([ 1.,  0.,  0.,  0.,  0.,  0.,  1.,  1.,  4.,  2., 19.]),\n",
       " array([ 1.,  0.,  0.,  0.,  0.,  0.,  1.,  2.,  3.,  1., 18.]),\n",
       " array([ 1.,  0.,  0.,  0.,  0.,  0.,  2.,  3.,  2.,  2., 17.]),\n",
       " array([ 1.,  0.,  0.,  0.,  0.,  0.,  1.,  3.,  1.,  3., 16.]),\n",
       " array([ 1.,  0.,  0.,  0.,  0.,  0.,  2.,  4.,  2.,  4., 15.]),\n",
       " array([ 1.,  0.,  0.,  0.,  0.,  0.,  1.,  3.,  2.,  5., 14.]),\n",
       " array([ 0.,  1.,  0.,  0.,  0.,  1.,  0.,  2.,  2.,  6., 13.]),\n",
       " array([ 1.,  0.,  0.,  0.,  0.,  0.,  1.,  1.,  3.,  7., 12.]),\n",
       " array([ 0.,  1.,  0.,  0.,  0.,  1.,  0.,  2.,  3.,  7., 11.]),\n",
       " array([ 1.,  0.,  0.,  0.,  0.,  0.,  1.,  3.,  2.,  6., 10.]),\n",
       " array([1., 0., 0., 0., 0., 0., 2., 4., 3., 5., 9.]),\n",
       " array([1., 0., 0., 0., 0., 0., 2., 4., 3., 4., 8.]),\n",
       " array([1., 0., 0., 0., 0., 0., 1., 3., 2., 3., 7.]),\n",
       " array([1., 0., 0., 0., 0., 0., 2., 3., 3., 2., 6.]),\n",
       " array([1., 0., 0., 0., 0., 0., 2., 2., 4., 1., 5.]),\n",
       " array([1., 0., 0., 0., 0., 0., 2., 1., 4., 2., 4.]),\n",
       " array([1., 0., 0., 0., 0., 0., 3., 2., 3., 1., 3.]),\n",
       " array([1., 0., 0., 0., 0., 0., 2., 1., 2., 1., 2.]),\n",
       " array([1., 0., 0., 0., 0., 0., 1., 2., 3., 2., 1.]),\n",
       " array([0., 0., 0., 0., 0., 1., 2., 3., 4., 3., 0.])]"
      ]
     },
     "execution_count": 5,
     "metadata": {},
     "output_type": "execute_result"
    }
   ],
   "source": [
    "[nvmdp.feature_at_state(s,\n",
    "                        feature_type=\"indicator\",\n",
    "                        incl_distance_features=True,\n",
    "                        incl_goal_ind_feature=False,\n",
    "                        incl_goal_dist_feature=True,\n",
    "                        normalize_distance=False,\n",
    "                        dtype=np.float) for s in state_trajectories[0]]"
   ]
  },
  {
   "cell_type": "markdown",
   "metadata": {},
   "source": [
    "## Features used for long horizon"
   ]
  },
  {
   "cell_type": "code",
   "execution_count": 6,
   "metadata": {},
   "outputs": [
    {
     "data": {
      "text/plain": [
       "[array([0., 0., 1., 0., 0.]),\n",
       " array([1., 0., 0., 0., 0.]),\n",
       " array([1., 0., 0., 0., 0.]),\n",
       " array([1., 0., 0., 0., 0.]),\n",
       " array([1., 0., 0., 0., 0.]),\n",
       " array([0., 1., 0., 0., 0.]),\n",
       " array([0., 1., 0., 0., 0.]),\n",
       " array([1., 0., 0., 0., 0.]),\n",
       " array([1., 0., 0., 0., 0.]),\n",
       " array([1., 0., 0., 0., 0.]),\n",
       " array([1., 0., 0., 0., 0.]),\n",
       " array([1., 0., 0., 0., 0.]),\n",
       " array([0., 1., 0., 0., 0.]),\n",
       " array([1., 0., 0., 0., 0.]),\n",
       " array([1., 0., 0., 0., 0.]),\n",
       " array([1., 0., 0., 0., 0.]),\n",
       " array([1., 0., 0., 0., 0.]),\n",
       " array([0., 1., 0., 0., 0.]),\n",
       " array([1., 0., 0., 0., 0.]),\n",
       " array([1., 0., 0., 0., 0.]),\n",
       " array([0., 1., 0., 0., 0.]),\n",
       " array([1., 0., 0., 0., 0.]),\n",
       " array([1., 0., 0., 0., 0.]),\n",
       " array([1., 0., 0., 0., 0.]),\n",
       " array([1., 0., 0., 0., 0.]),\n",
       " array([1., 0., 0., 0., 0.]),\n",
       " array([1., 0., 0., 0., 0.]),\n",
       " array([0., 1., 0., 0., 0.]),\n",
       " array([1., 0., 0., 0., 0.]),\n",
       " array([0., 1., 0., 0., 0.]),\n",
       " array([1., 0., 0., 0., 0.]),\n",
       " array([1., 0., 0., 0., 0.]),\n",
       " array([1., 0., 0., 0., 0.]),\n",
       " array([1., 0., 0., 0., 0.]),\n",
       " array([1., 0., 0., 0., 0.]),\n",
       " array([1., 0., 0., 0., 0.]),\n",
       " array([1., 0., 0., 0., 0.]),\n",
       " array([1., 0., 0., 0., 0.]),\n",
       " array([1., 0., 0., 0., 0.]),\n",
       " array([1., 0., 0., 0., 0.]),\n",
       " array([0., 0., 0., 0., 0.])]"
      ]
     },
     "execution_count": 6,
     "metadata": {},
     "output_type": "execute_result"
    }
   ],
   "source": [
    "[nvmdp.feature_at_state(s,\n",
    "                        feature_type=\"indicator\",\n",
    "                        incl_distance_features=False,\n",
    "                        incl_goal_ind_feature=False,\n",
    "                        incl_goal_dist_feature=True,\n",
    "                        normalize_distance=False,\n",
    "                        dtype=np.float) for s in state_trajectories[0]]"
   ]
  },
  {
   "cell_type": "markdown",
   "metadata": {},
   "source": [
    "## Multiple Goals"
   ]
  },
  {
   "cell_type": "markdown",
   "metadata": {},
   "source": [
    "**1. All goals have similar features (i.e., Entangled in feature space)**"
   ]
  },
  {
   "cell_type": "code",
   "execution_count": 9,
   "metadata": {},
   "outputs": [],
   "source": [
    "np.random.seed(0)\n",
    "mdp_multiple_goals = NavigationMDP(width=30, \n",
    "                        height=30, \n",
    "                        goal_locs=[(21,21), (11,11)],\n",
    "                        init_loc=(1,1),\n",
    "                        rand_init=True,\n",
    "                        cell_types=['white', 'yellow', 'red', 'lime', 'magenta'],\n",
    "                        cell_type_rewards=[0, 0, -10, -10, -10],\n",
    "                        cell_distribution=\"probability\",\n",
    "                        cell_type_probs=[0.68, 0.17, 0.05, 0.05, 0.05],\n",
    "                        goal_reward=1.,\n",
    "                        slip_prob=0.00,\n",
    "                        step_cost=0.0,\n",
    "                        gamma=.9999)"
   ]
  },
  {
   "cell_type": "code",
   "execution_count": 10,
   "metadata": {},
   "outputs": [
    {
     "data": {
      "image/png": "[encoded data removed]",
      "text/plain": [
       "<Figure size 504x504 with 2 Axes>"
      ]
     },
     "metadata": {},
     "output_type": "display_data"
    }
   ],
   "source": [
    "N_tau = 8\n",
    "# Use \"init_states\" to request specific init states while sampling trajectories\n",
    "# if \"n_trajectory\" is greater than # of init_states, remaining init states will be sampled randomly\n",
    "state_trajectories, action_trajectories = mdp_multiple_goals.sample_data(n_trajectory=N_tau, init_states=[GridWorldState(1,1)], init_repetition=False)\n",
    "mdp_multiple_goals.visualize_grid(trajectories=state_trajectories, show_rewards_cbar=True)"
   ]
  },
  {
   "cell_type": "code",
   "execution_count": 11,
   "metadata": {},
   "outputs": [
    {
     "data": {
      "text/plain": [
       "[array([ 0.,  0.,  1.,  0.,  0.,  1.,  4.,  0.,  6., 12., 20.]),\n",
       " array([ 1.,  0.,  0.,  0.,  0.,  0.,  3.,  1.,  5., 11., 19.]),\n",
       " array([ 1.,  0.,  0.,  0.,  0.,  0.,  3.,  2.,  4., 10., 18.]),\n",
       " array([ 1.,  0.,  0.,  0.,  0.,  0.,  2.,  3.,  3.,  9., 17.]),\n",
       " array([ 1.,  0.,  0.,  0.,  0.,  0.,  1.,  3.,  2.,  8., 16.]),\n",
       " array([ 0.,  1.,  0.,  0.,  0.,  1.,  0.,  2.,  1.,  7., 15.]),\n",
       " array([ 0.,  1.,  0.,  0.,  0.,  1.,  0.,  1.,  2.,  6., 14.]),\n",
       " array([ 1.,  0.,  0.,  0.,  0.,  0.,  1.,  1.,  1.,  5., 13.]),\n",
       " array([ 1.,  0.,  0.,  0.,  0.,  0.,  2.,  1.,  2.,  4., 12.]),\n",
       " array([ 1.,  0.,  0.,  0.,  0.,  0.,  2.,  1.,  3.,  3., 11.]),\n",
       " array([ 1.,  0.,  0.,  0.,  0.,  0.,  2.,  2.,  4.,  3., 10.]),\n",
       " array([1., 0., 0., 0., 0., 0., 1., 3., 5., 2., 9.]),\n",
       " array([0., 1., 0., 0., 0., 1., 0., 4., 6., 1., 8.]),\n",
       " array([1., 0., 0., 0., 0., 0., 1., 4., 5., 1., 7.]),\n",
       " array([1., 0., 0., 0., 0., 0., 2., 3., 5., 1., 6.]),\n",
       " array([1., 0., 0., 0., 0., 0., 2., 2., 4., 2., 5.]),\n",
       " array([1., 0., 0., 0., 0., 0., 2., 1., 3., 3., 4.]),\n",
       " array([1., 0., 0., 0., 0., 0., 2., 2., 2., 4., 3.]),\n",
       " array([1., 0., 0., 0., 0., 0., 1., 3., 1., 3., 2.]),\n",
       " array([1., 0., 0., 0., 0., 0., 1., 4., 2., 2., 1.]),\n",
       " array([0., 0., 0., 0., 0., 1., 1., 3., 1., 3., 0.])]"
      ]
     },
     "execution_count": 11,
     "metadata": {},
     "output_type": "execute_result"
    }
   ],
   "source": [
    "## Features: Cell Type Ind + Cell Type Dist + Goal Dist\n",
    "[mdp_multiple_goals.feature_at_state(s,\n",
    "                        feature_type=\"indicator\",\n",
    "                        incl_distance_features=True,\n",
    "                        incl_goal_ind_feature=False,\n",
    "                        incl_goal_dist_feature=True,\n",
    "                        normalize_distance=False,\n",
    "                        dtype=np.float) for s in state_trajectories[0]]"
   ]
  },
  {
   "cell_type": "markdown",
   "metadata": {},
   "source": [
    "**2. All goals have different features (i.e., uniquely identifiable in feature space)**"
   ]
  },
  {
   "cell_type": "code",
   "execution_count": 12,
   "metadata": {},
   "outputs": [],
   "source": [
    "np.random.seed(0)\n",
    "mdp_multiple_goals = NavigationMDP(width=30, \n",
    "                        height=30, \n",
    "                        goal_locs=[(21,21), (11,11)],\n",
    "                        init_loc=(1,1),\n",
    "                        rand_init=True,\n",
    "                        cell_types=['white', 'yellow', 'red', 'lime', 'magenta'],\n",
    "                        cell_type_rewards=[0, 0, -10, -10, -10],\n",
    "                        cell_distribution=\"probability\",\n",
    "                        goal_reward=1.,\n",
    "                        slip_prob=0.00,\n",
    "                        step_cost=0.0,\n",
    "                        all_goals_state_features_entangled=False,\n",
    "                        gamma=.9999)"
   ]
  },
  {
   "cell_type": "code",
   "execution_count": 13,
   "metadata": {},
   "outputs": [
    {
     "data": {
      "image/png": "[encoded data removed]",
      "text/plain": [
       "<Figure size 504x504 with 2 Axes>"
      ]
     },
     "metadata": {},
     "output_type": "display_data"
    }
   ],
   "source": [
    "N_tau = 8\n",
    "# Use \"init_states\" to request specific init states while sampling trajectories\n",
    "# if \"n_trajectory\" is greater than # of init_states, remaining init states will be sampled randomly\n",
    "state_trajectories, action_trajectories = mdp_multiple_goals.sample_data(n_trajectory=N_tau, init_states=[GridWorldState(1,1)], init_repetition=False)\n",
    "mdp_multiple_goals.visualize_grid(trajectories=state_trajectories, show_rewards_cbar=True)"
   ]
  },
  {
   "cell_type": "code",
   "execution_count": 14,
   "metadata": {},
   "outputs": [
    {
     "data": {
      "text/plain": [
       "[array([ 0.,  0.,  1.,  0.,  0.,  1.,  4.,  0.,  6., 12., 40., 20.]),\n",
       " array([ 1.,  0.,  0.,  0.,  0.,  0.,  3.,  1.,  5., 11., 39., 19.]),\n",
       " array([ 1.,  0.,  0.,  0.,  0.,  0.,  3.,  2.,  4., 10., 38., 18.]),\n",
       " array([ 1.,  0.,  0.,  0.,  0.,  0.,  2.,  3.,  3.,  9., 37., 17.]),\n",
       " array([ 1.,  0.,  0.,  0.,  0.,  0.,  1.,  3.,  2.,  8., 36., 16.]),\n",
       " array([ 0.,  1.,  0.,  0.,  0.,  1.,  0.,  2.,  1.,  7., 35., 15.]),\n",
       " array([ 0.,  1.,  0.,  0.,  0.,  1.,  0.,  1.,  2.,  6., 34., 14.]),\n",
       " array([ 1.,  0.,  0.,  0.,  0.,  0.,  1.,  1.,  1.,  5., 33., 13.]),\n",
       " array([ 1.,  0.,  0.,  0.,  0.,  0.,  2.,  1.,  2.,  4., 32., 12.]),\n",
       " array([ 1.,  0.,  0.,  0.,  0.,  0.,  2.,  1.,  3.,  3., 31., 11.]),\n",
       " array([ 1.,  0.,  0.,  0.,  0.,  0.,  2.,  2.,  4.,  3., 30., 10.]),\n",
       " array([ 1.,  0.,  0.,  0.,  0.,  0.,  1.,  3.,  5.,  2., 29.,  9.]),\n",
       " array([ 0.,  1.,  0.,  0.,  0.,  1.,  0.,  4.,  6.,  1., 28.,  8.]),\n",
       " array([ 1.,  0.,  0.,  0.,  0.,  0.,  1.,  4.,  5.,  1., 27.,  7.]),\n",
       " array([ 1.,  0.,  0.,  0.,  0.,  0.,  2.,  3.,  5.,  1., 26.,  6.]),\n",
       " array([ 1.,  0.,  0.,  0.,  0.,  0.,  2.,  2.,  4.,  2., 25.,  5.]),\n",
       " array([ 1.,  0.,  0.,  0.,  0.,  0.,  2.,  1.,  3.,  3., 24.,  4.]),\n",
       " array([ 1.,  0.,  0.,  0.,  0.,  0.,  2.,  2.,  2.,  4., 23.,  3.]),\n",
       " array([ 1.,  0.,  0.,  0.,  0.,  0.,  1.,  3.,  1.,  3., 22.,  2.]),\n",
       " array([ 1.,  0.,  0.,  0.,  0.,  0.,  1.,  4.,  2.,  2., 21.,  1.]),\n",
       " array([ 0.,  0.,  0.,  0.,  0.,  1.,  1.,  3.,  1.,  3., 20.,  0.])]"
      ]
     },
     "execution_count": 14,
     "metadata": {},
     "output_type": "execute_result"
    }
   ],
   "source": [
    "## Features: Cell Type Ind + Cell Type Dist + Goal Dist\n",
    "[mdp_multiple_goals.feature_at_state(s,\n",
    "                        feature_type=\"indicator\",\n",
    "                        incl_distance_features=True,\n",
    "                        incl_goal_ind_feature=False,\n",
    "                        incl_goal_dist_feature=True,\n",
    "                        normalize_distance=False,\n",
    "                        dtype=np.float) for s in state_trajectories[0]]"
   ]
  },
  {
   "cell_type": "markdown",
   "metadata": {},
   "source": [
    "## Custom Grid"
   ]
  },
  {
   "cell_type": "code",
   "execution_count": 7,
   "metadata": {},
   "outputs": [],
   "source": [
    "nvmdp = NavigationMDP(width=5, \n",
    "                        height=5, \n",
    "                        goal_locs=[(5,1)],\n",
    "                        init_loc=(1,1),\n",
    "                        rand_init=True,\n",
    "                        cell_types=['white', 'yellow', 'red'],\n",
    "                        cell_type_rewards=[0, 0, -10],\n",
    "                        cell_distribution=\"manual\",\n",
    "                        cell_type_forced_locations=[np.inf, np.inf, [(2,i) for i in range(1,5)]],\n",
    "                        goal_color=\"blue\",\n",
    "                        goal_reward=1.,\n",
    "                        slip_prob=0.00,\n",
    "                        step_cost=0.0,\n",
    "                        gamma=.9999)"
   ]
  },
  {
   "cell_type": "code",
   "execution_count": 8,
   "metadata": {},
   "outputs": [
    {
     "data": {
      "image/png": "[encoded data removed]",
      "text/plain": [
       "<Figure size 432x432 with 2 Axes>"
      ]
     },
     "metadata": {},
     "output_type": "display_data"
    }
   ],
   "source": [
    "N_tau = 8\n",
    "# Use \"init_states\" to request specific init states while sampling trajectories\n",
    "# if \"n_trajectory\" is greater than # of init_states, remaining init states will be sampled randomly\n",
    "state_trajectories, action_trajectories = nvmdp.sample_data(n_trajectory=N_tau, init_states=[GridWorldState(1,1)], init_repetition=False)\n",
    "nvmdp.visualize_grid(trajectories=state_trajectories, show_rewards_cbar=True)"
   ]
  },
  {
   "cell_type": "markdown",
   "metadata": {},
   "source": [
    "## Reference\n",
    "\n",
    "[1] MacGlashan, James, and Michael L. Littman. \"Between Imitation and Intention Learning.\" IJCAI. 2015."
   ]
  }
 ],
 "metadata": {
  "kernelspec": {
   "display_name": "irl_python3",
   "language": "python",
   "name": "irl_python3"
  },
  "language_info": {
   "codemirror_mode": {
    "name": "ipython",
    "version": 3
   },
   "file_extension": ".py",
   "mimetype": "text/x-python",
   "name": "python",
   "nbconvert_exporter": "python",
   "pygments_lexer": "ipython3",
   "version": "3.6.1"
  }
 },
 "nbformat": 4,
 "nbformat_minor": 2
}
